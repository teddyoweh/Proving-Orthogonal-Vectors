{
 "cells": [
  {
   "cell_type": "code",
   "execution_count": null,
   "metadata": {},
   "outputs": [],
   "source": [
    "\n",
    "def IsOrthogonal(u,v):\n",
    "  vu = u.split(',')\n",
    "  vu =list(map(int,vu))\n",
    "  vv = v.split(',')\n",
    "  vv = list(map(int,vv))\n",
    "\n",
    "  out = '<{},{}> & <{},{}> are Orthogonal Vectors'.format(vu[0],vu[1],vv[0],vv[1])\n",
    "  print(out)\n",
    "  ians = (vu[0]*vv[0])+(vu[1]*vv[1])\n",
    "  return ians == 0\n",
    "IsOrthogonal('3,4','-8,6')"
   ]
  }
 ],
 "metadata": {
  "language_info": {
   "name": "python"
  },
  "orig_nbformat": 4
 },
 "nbformat": 4,
 "nbformat_minor": 2
}
